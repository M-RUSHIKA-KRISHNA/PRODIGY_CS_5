{
 "cells": [
  {
   "cell_type": "code",
   "execution_count": null,
   "id": "37a48722-5de2-4c2c-aea0-790b5bb21518",
   "metadata": {},
   "outputs": [],
   "source": [
    "# Import necessary libraries\n",
    "from scapy.all import sniff, IP, TCP, UDP\n",
    "\n",
    "# Function to process packets\n",
    "def packet_callback(packet):\n",
    "    if IP in packet:\n",
    "        ip_src = packet[IP].src\n",
    "        ip_dst = packet[IP].dst\n",
    "        proto = packet[IP].proto\n",
    "\n",
    "        if proto == 6:  # TCP\n",
    "            if TCP in packet:\n",
    "                sport = packet[TCP].sport\n",
    "                dport = packet[TCP].dport\n",
    "                print(f\"TCP Packet: {ip_src}:{sport} -> {ip_dst}:{dport}\")\n",
    "\n",
    "        elif proto == 17:  # UDP\n",
    "            if UDP in packet:\n",
    "                sport = packet[UDP].sport\n",
    "                dport = packet[UDP].dport\n",
    "                print(f\"UDP Packet: {ip_src}:{sport} -> {ip_dst}:{dport}\")\n",
    "\n",
    "        else:\n",
    "            print(f\"Other IP Packet: {ip_src} -> {ip_dst} (Proto: {proto})\")\n",
    "\n",
    "# Capture packets\n",
    "print(\"Starting packet capture. Press Ctrl+C to stop.\")\n",
    "try:\n",
    "    sniff(prn=packet_callback, count=10)  # Set count=0 for continuous capture\n",
    "except KeyboardInterrupt:\n",
    "    print(\"Packet capture stopped.\")\n",
    "\n"
   ]
  }
 ],
 "metadata": {
  "kernelspec": {
   "display_name": "Python 3 (ipykernel)",
   "language": "python",
   "name": "python3"
  },
  "language_info": {
   "codemirror_mode": {
    "name": "ipython",
    "version": 3
   },
   "file_extension": ".py",
   "mimetype": "text/x-python",
   "name": "python",
   "nbconvert_exporter": "python",
   "pygments_lexer": "ipython3",
   "version": "3.11.7"
  }
 },
 "nbformat": 4,
 "nbformat_minor": 5
}
